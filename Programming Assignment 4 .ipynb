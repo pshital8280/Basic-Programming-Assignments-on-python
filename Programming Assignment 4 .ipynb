{
 "cells": [
  {
   "cell_type": "markdown",
   "metadata": {},
   "source": [
    "### Write a Python Program to Find the Factorial of a Number"
   ]
  },
  {
   "cell_type": "code",
   "execution_count": 3,
   "metadata": {},
   "outputs": [
    {
     "name": "stdout",
     "output_type": "stream",
     "text": [
      "Enter the Number:   10\n",
      "The Factorial Value is:    3628800\n"
     ]
    }
   ],
   "source": [
    "i=int(input(\"Enter the Number:   \"))\n",
    "fac=1\n",
    "while i>0:\n",
    "    fac=fac*i\n",
    "    i=i-1\n",
    "print(\"The Factorial Value is:   \",fac)"
   ]
  },
  {
   "cell_type": "markdown",
   "metadata": {},
   "source": [
    "### Write a Python Program to Display the multiplication Table"
   ]
  },
  {
   "cell_type": "code",
   "execution_count": 7,
   "metadata": {},
   "outputs": [
    {
     "name": "stdout",
     "output_type": "stream",
     "text": [
      "Enter the Multiplication table Number:   17\n",
      "17\n",
      "34\n",
      "51\n",
      "68\n",
      "85\n",
      "102\n",
      "119\n",
      "136\n",
      "153\n",
      "170\n"
     ]
    }
   ],
   "source": [
    "a=int(input(\"Enter the Multiplication table Number:   \"))\n",
    "i=1\n",
    "while i<=10:\n",
    "    print(a*i)\n",
    "    i=i+1"
   ]
  },
  {
   "cell_type": "markdown",
   "metadata": {},
   "source": [
    "### Write a Python Program to Print the Fibonacci sequence"
   ]
  },
  {
   "cell_type": "code",
   "execution_count": 15,
   "metadata": {},
   "outputs": [
    {
     "name": "stdout",
     "output_type": "stream",
     "text": [
      "Enter any number:   10\n",
      "0  1  1  2  3  5  8  13  21  34  "
     ]
    }
   ],
   "source": [
    "a=int(input(\"Enter any number:   \"))\n",
    "n1=0\n",
    "n2=1\n",
    "sum=0\n",
    "if a<=0:\n",
    "    print(\"Enter number greater than zero\")\n",
    "else:\n",
    "    for i in range(0,a):\n",
    "        print(sum,end=\"  \")\n",
    "        n1=n2\n",
    "        n2=sum\n",
    "        sum=n1+n2"
   ]
  },
  {
   "cell_type": "markdown",
   "metadata": {},
   "source": [
    "### Write a Python Program to Check Armstrong Number"
   ]
  },
  {
   "cell_type": "code",
   "execution_count": 4,
   "metadata": {},
   "outputs": [
    {
     "name": "stdout",
     "output_type": "stream",
     "text": [
      "Enter the any positive Number:    34\n",
      "The Number is not armstrong number\n"
     ]
    }
   ],
   "source": [
    "a=int(input((\"Enter the any positive Number:    \")))\n",
    "      \n",
    "def check_armstrong(b):\n",
    "    if b in range(1,10):\n",
    "     return True\n",
    "      \n",
    "    order=len(str(b))\n",
    "    sum=0\n",
    "    original=b \n",
    "      \n",
    "    while b>0:\n",
    "      digit=b%10\n",
    "      sum+=digit**order\n",
    "      b=b//10\n",
    "      \n",
    "    if sum==original:\n",
    "      return True\n",
    "    else:\n",
    "      return False\n",
    "if check_armstrong(a):\n",
    "    print(\"The Number is armstrong number\")\n",
    "else:\n",
    "    print(\"The Number is not armstrong number\")"
   ]
  },
  {
   "cell_type": "code",
   "execution_count": 7,
   "metadata": {},
   "outputs": [
    {
     "name": "stdout",
     "output_type": "stream",
     "text": [
      "Enter the any positive Number:    236\n",
      "The Number is not armstrong number\n"
     ]
    }
   ],
   "source": [
    "a=int(input((\"Enter the any positive Number:    \")))\n",
    "      \n",
    "def check_armstrong(b):\n",
    "    if b in range(1,10):\n",
    "     return True\n",
    "      \n",
    "    order=len(str(b))\n",
    "    sum=0\n",
    "    original=b \n",
    "      \n",
    "    while b>0:\n",
    "      digit=b%10\n",
    "      sum+=digit**order\n",
    "      b=b//10\n",
    "      \n",
    "    if sum==original:\n",
    "      return True\n",
    "    else:\n",
    "      return False\n",
    "if check_armstrong(a):\n",
    "    print(\"The Number is armstrong number\")\n",
    "else:\n",
    "    print(\"The Number is not armstrong number\")"
   ]
  },
  {
   "cell_type": "markdown",
   "metadata": {},
   "source": [
    "### Write a Python Program to Find Armstrong Number in an Interval"
   ]
  },
  {
   "cell_type": "code",
   "execution_count": 8,
   "metadata": {},
   "outputs": [
    {
     "name": "stdout",
     "output_type": "stream",
     "text": [
      "Enter the Lower Bound:   100\n",
      "Enter the Upper Bound:   200\n"
     ]
    }
   ],
   "source": [
    "Lower=int(input(\"Enter the Lower Bound:   \"))\n",
    "upper=int(input(\"Enter the Upper Bound:   \"))\n",
    "for num in range(Lower,upper+1):\n",
    "    order=len(str(num))\n",
    "    \n",
    "    sum=0\n",
    "    \n",
    "    temp=num\n",
    "    \n",
    "    while temp>0:\n",
    "        digit=temp%10\n",
    "        sum=sum+digit**order\n",
    "        temp=temp//10\n",
    "        \n",
    "if sum==num:\n",
    "    print(num)\n",
    "        \n",
    "    "
   ]
  },
  {
   "cell_type": "markdown",
   "metadata": {},
   "source": [
    "### Write a Python Program to Find the Sum of Natural Numbers"
   ]
  },
  {
   "cell_type": "code",
   "execution_count": 2,
   "metadata": {},
   "outputs": [
    {
     "name": "stdout",
     "output_type": "stream",
     "text": [
      "Enter the Natural Number:   5\n",
      "The sum:   15\n"
     ]
    }
   ],
   "source": [
    "num=int(input(\"Enter the Natural Number:   \"))\n",
    "if num<0:\n",
    "        print(\"Enter the Positive Nummber\")\n",
    "else:\n",
    "    sum=0\n",
    "    while num>0:\n",
    "        sum +=num\n",
    "        num -=1\n",
    "        \n",
    "        \n",
    "    print(\"The sum:  \",sum)    \n",
    "     "
   ]
  }
 ],
 "metadata": {
  "kernelspec": {
   "display_name": "Python 3",
   "language": "python",
   "name": "python3"
  },
  "language_info": {
   "codemirror_mode": {
    "name": "ipython",
    "version": 3
   },
   "file_extension": ".py",
   "mimetype": "text/x-python",
   "name": "python",
   "nbconvert_exporter": "python",
   "pygments_lexer": "ipython3",
   "version": "3.8.3"
  }
 },
 "nbformat": 4,
 "nbformat_minor": 4
}
