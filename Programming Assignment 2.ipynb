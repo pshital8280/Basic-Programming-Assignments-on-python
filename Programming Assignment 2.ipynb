{
 "cells": [
  {
   "cell_type": "markdown",
   "metadata": {},
   "source": [
    "### Write a Python program to convert kilometers to miles"
   ]
  },
  {
   "cell_type": "code",
   "execution_count": 7,
   "metadata": {},
   "outputs": [
    {
     "name": "stdout",
     "output_type": "stream",
     "text": [
      "Enter the distance in  Km :   20\n",
      "Distance in Miles is:     12.427999999999999\n"
     ]
    }
   ],
   "source": [
    "km=float(input(\"Enter the distance in  Km :   \"))\n",
    "result= km* 0.6214\n",
    "print('Distance in Miles is:    ',result)"
   ]
  },
  {
   "cell_type": "markdown",
   "metadata": {},
   "source": [
    "### Write a Python program to convert Celsius to Fahrenheit"
   ]
  },
  {
   "cell_type": "code",
   "execution_count": 10,
   "metadata": {},
   "outputs": [
    {
     "name": "stdout",
     "output_type": "stream",
     "text": [
      "Enter the temprature in Degree:   37.2\n",
      "The temprature in Farenheit is :   98.96000000000001\n"
     ]
    }
   ],
   "source": [
    "cel=float(input(\"Enter the temprature in Degree:   \"))\n",
    "result= 9/5*cel + 32\n",
    "print(\"The temprature in Farenheit is :  \",result)"
   ]
  },
  {
   "cell_type": "markdown",
   "metadata": {},
   "source": [
    "### Write a Python program to display calendar"
   ]
  },
  {
   "cell_type": "code",
   "execution_count": 17,
   "metadata": {},
   "outputs": [
    {
     "name": "stdout",
     "output_type": "stream",
     "text": [
      "Enter the Year :   2021\n",
      "Enter the Month:   6\n",
      "     June 2021\n",
      "Su Mo Tu We Th Fr Sa\n",
      "       1  2  3  4  5\n",
      " 6  7  8  9 10 11 12\n",
      "13 14 15 16 17 18 19\n",
      "20 21 22 23 24 25 26\n",
      "27 28 29 30\n",
      "\n"
     ]
    }
   ],
   "source": [
    "import calendar\n",
    "\n",
    "year=int(input(\"Enter the Year :   \"))\n",
    "month= int(input(\"Enter the Month:   \"))\n",
    "calendar.setfirstweekday(calendar.SUNDAY)\n",
    "mycal=calendar.month(year,month)\n",
    "print(mycal)\n"
   ]
  },
  {
   "cell_type": "markdown",
   "metadata": {},
   "source": [
    "### Write a Python program to solve quadratic equation"
   ]
  },
  {
   "cell_type": "code",
   "execution_count": 20,
   "metadata": {},
   "outputs": [
    {
     "name": "stdout",
     "output_type": "stream",
     "text": [
      "Enter the value of x:    6\n",
      "The value of quadratic equation is :   53\n"
     ]
    }
   ],
   "source": [
    "x=int(input(\"Enter the value of x:    \"))\n",
    "result=x*x+2*x+5\n",
    "print(\"The value of quadratic equation is :  \",result)"
   ]
  },
  {
   "cell_type": "markdown",
   "metadata": {},
   "source": [
    "### Write a Python program to solve quadratic equation"
   ]
  },
  {
   "cell_type": "code",
   "execution_count": 24,
   "metadata": {},
   "outputs": [
    {
     "name": "stdout",
     "output_type": "stream",
     "text": [
      "Enter the value of a :    2\n",
      "Enter the value of b:      5\n",
      "Enter the value of c:       7\n",
      "Solution for quadratic Equation is (-1.25+1.3919410907075054j) and (-1.25-1.3919410907075054j) :  \n"
     ]
    }
   ],
   "source": [
    "##  ax**2+b*x+c     quadratic equation \n",
    "import cmath\n",
    "\n",
    "\n",
    "a=int(input(\"Enter the value of a :    \"))\n",
    "b=int(input(\"Enter the value of b:      \"))\n",
    "c=int(input(\"Enter the value of c:       \"))\n",
    "\n",
    "d=(b**2)-(4*a*c)\n",
    "\n",
    "sol1=(-b+cmath.sqrt(d))/(2*a)\n",
    "sol2=(-b-cmath.sqrt(d))/(2*a)\n",
    "print(\"Solution for quadratic Equation is {0} and {1} :  \".format(sol1,sol2))\n",
    "\n"
   ]
  },
  {
   "cell_type": "markdown",
   "metadata": {},
   "source": [
    "### Write a Python program to swap two variables without temp variable"
   ]
  },
  {
   "cell_type": "code",
   "execution_count": 25,
   "metadata": {},
   "outputs": [
    {
     "name": "stdout",
     "output_type": "stream",
     "text": [
      "Enter the value of a:  20\n",
      "Enter the value of b:  40\n",
      "The Swapping value of a is:   40\n",
      "The Swapping value of a is:   20\n"
     ]
    }
   ],
   "source": [
    "a=int(input(\"Enter the value of a:  \"))\n",
    "b=int(input(\"Enter the value of b:  \"))\n",
    "a=a+b\n",
    "b=a-b\n",
    "a=a-b\n",
    "\n",
    "print(\"The Swapping value of a is:  \",a)\n",
    "print(\"The Swapping value of a is:  \",b)"
   ]
  }
 ],
 "metadata": {
  "kernelspec": {
   "display_name": "Python 3",
   "language": "python",
   "name": "python3"
  },
  "language_info": {
   "codemirror_mode": {
    "name": "ipython",
    "version": 3
   },
   "file_extension": ".py",
   "mimetype": "text/x-python",
   "name": "python",
   "nbconvert_exporter": "python",
   "pygments_lexer": "ipython3",
   "version": "3.8.3"
  }
 },
 "nbformat": 4,
 "nbformat_minor": 4
}
