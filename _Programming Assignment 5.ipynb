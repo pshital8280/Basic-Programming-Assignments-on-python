{
 "cells": [
  {
   "cell_type": "markdown",
   "metadata": {},
   "source": [
    "### Write a Python Program to Find LCM"
   ]
  },
  {
   "cell_type": "code",
   "execution_count": 1,
   "metadata": {},
   "outputs": [
    {
     "name": "stdout",
     "output_type": "stream",
     "text": [
      "Enter The First Number:  10\n",
      "Enter the Second Number:  20\n",
      "The LCM of Number is:   20\n"
     ]
    }
   ],
   "source": [
    "a=int(input(\"Enter The First Number:  \"))\n",
    "b=int(input(\"Enter the Second Number:  \"))\n",
    "if a>b:\n",
    "    min1 =a\n",
    "else:\n",
    "    min1 =b\n",
    "    \n",
    "while(1):\n",
    "    if(min1%a==0 and min1%b==0):\n",
    "        print(\"The LCM of Number is:  \",min1)\n",
    "        break\n",
    "        min1=min1+1"
   ]
  },
  {
   "cell_type": "markdown",
   "metadata": {},
   "source": [
    "### Write a Python Program to Find HCF"
   ]
  },
  {
   "cell_type": "code",
   "execution_count": 2,
   "metadata": {},
   "outputs": [
    {
     "name": "stdout",
     "output_type": "stream",
     "text": [
      "Enter the First Number:   20\n",
      "Enter the Second Number:   40\n",
      "The HCF of Number is :   20\n"
     ]
    }
   ],
   "source": [
    "a=int(input(\"Enter the First Number:   \"))\n",
    "b=int(input(\"Enter the Second Number:   \"))\n",
    "while a%b!=0:\n",
    "    rem=a%b\n",
    "    a=b\n",
    "    b=rem\n",
    "    print(\"The HCF of Number is :  \",b)"
   ]
  },
  {
   "cell_type": "markdown",
   "metadata": {},
   "source": [
    "### Write a Python Program to Convert Decimal to Binary, Octal and Hexadecimal"
   ]
  },
  {
   "cell_type": "code",
   "execution_count": 4,
   "metadata": {},
   "outputs": [
    {
     "name": "stdout",
     "output_type": "stream",
     "text": [
      "Enter the Decimal number:   30\n",
      "0b11110\n",
      "0o36\n",
      "0x1e\n"
     ]
    }
   ],
   "source": [
    "num=int(input(\"Enter the Decimal number:   \"))\n",
    "print(bin(num))\n",
    "print(oct(num))\n",
    "print(hex(num))"
   ]
  },
  {
   "cell_type": "markdown",
   "metadata": {},
   "source": [
    "### Write a Python Program To Find ASCII value of a character"
   ]
  },
  {
   "cell_type": "code",
   "execution_count": 13,
   "metadata": {},
   "outputs": [
    {
     "name": "stdout",
     "output_type": "stream",
     "text": [
      "Enter the Character:   SHITAL\n",
      "The ASCII value is :   83\n",
      "The ASCII value is :   72\n",
      "The ASCII value is :   73\n",
      "The ASCII value is :   84\n",
      "The ASCII value is :   65\n",
      "The ASCII value is :   76\n"
     ]
    }
   ],
   "source": [
    "str1=str(input(\"Enter the Character:   \"))\n",
    "for i in str1:\n",
    "    print(\"The ASCII value is :  \",ord(i),end='\\n')"
   ]
  },
  {
   "cell_type": "markdown",
   "metadata": {},
   "source": [
    "### Write a Python Program to Make a Simple Calculator with 4 basic mathematical operations"
   ]
  },
  {
   "cell_type": "code",
   "execution_count": 18,
   "metadata": {},
   "outputs": [
    {
     "name": "stdout",
     "output_type": "stream",
     "text": [
      "Enter the First Number:  32.052\n",
      "Enter the second Number:  20.365\n",
      "Enter the Opertaion to be performed:   +\n",
      "Addition of 32.052 And 20.365 is  :   52.417\n"
     ]
    }
   ],
   "source": [
    "n1=float(input(\"Enter the First Number:  \"))\n",
    "n2=float(input(\"Enter the second Number:  \"))\n",
    "op=input(\"Enter the Opertaion to be performed:   \")\n",
    "if op== \"+\":\n",
    "    print(\"Addition of\",n1,\"And\",n2,\"is  :  \",n1+n2)\n",
    "elif op== \"-\":\n",
    "     print(\"Subtraction of\",n1,\"And\",n2,\"is  :  \",n1-n2)\n",
    "elif op== \"*\":\n",
    "     print(\"Multiplication  of\",n1,\"And\",n2,\"is  :  \",n1*n2)\n",
    "elif op== \"/\":\n",
    "     print(\"Division of\",n1,\"And\",n2,\"is  :  \",n1/n2)\n",
    "else:\n",
    "    print(\"The calculator is Invalid\")"
   ]
  }
 ],
 "metadata": {
  "kernelspec": {
   "display_name": "Python 3",
   "language": "python",
   "name": "python3"
  },
  "language_info": {
   "codemirror_mode": {
    "name": "ipython",
    "version": 3
   },
   "file_extension": ".py",
   "mimetype": "text/x-python",
   "name": "python",
   "nbconvert_exporter": "python",
   "pygments_lexer": "ipython3",
   "version": "3.8.3"
  }
 },
 "nbformat": 4,
 "nbformat_minor": 4
}
