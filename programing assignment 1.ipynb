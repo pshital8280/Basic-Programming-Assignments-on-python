{
 "cells": [
  {
   "cell_type": "markdown",
   "metadata": {},
   "source": [
    "### python program to do arithmetic operation"
   ]
  },
  {
   "cell_type": "code",
   "execution_count": 3,
   "metadata": {},
   "outputs": [
    {
     "name": "stdout",
     "output_type": "stream",
     "text": [
      "Enter the first number =  60\n",
      " Enter the second number  15\n",
      "Enter the operation to be performed =  /\n",
      "Division of two numbers is =   4.0\n"
     ]
    }
   ],
   "source": [
    "r=float(input(\"Enter the first number =  \"))\n",
    "s=float(input(\" Enter the second number  \"))\n",
    "t=input(\"Enter the operation to be performed =  \")\n",
    "if t==\"+\":\n",
    "    print(\"Addition of two numbers is =  \", r+s)\n",
    "elif t==\"/\":\n",
    "    print(\"Division of two numbers is =  \",  r/s)\n",
    "else:\n",
    "    print(\"Calculator is invalid\")"
   ]
  },
  {
   "cell_type": "markdown",
   "metadata": {},
   "source": [
    "### python program to caluclate area of triangle"
   ]
  },
  {
   "cell_type": "code",
   "execution_count": 5,
   "metadata": {},
   "outputs": [
    {
     "name": "stdout",
     "output_type": "stream",
     "text": [
      "Enter the first number =  50\n",
      " Enter the second number  60\n",
      "Area of Traingle is =   1500.0\n"
     ]
    }
   ],
   "source": [
    "r=float(input(\"Enter the first number =  \"))\n",
    "s=float(input(\" Enter the second number  \"))\n",
    "t=(0.5*r*s)\n",
    "print(\"Area of Traingle is =  \",t)"
   ]
  },
  {
   "cell_type": "markdown",
   "metadata": {},
   "source": [
    "###   program to swap two numbers"
   ]
  },
  {
   "cell_type": "code",
   "execution_count": 4,
   "metadata": {},
   "outputs": [
    {
     "name": "stdout",
     "output_type": "stream",
     "text": [
      "Enter the first number:  20\n",
      "Enter the second number:  10\n",
      "a is:  10 b is:  20\n"
     ]
    }
   ],
   "source": [
    "a=int(input(\"Enter the first number:  \"))\n",
    "b=int(input(\"Enter the second number:  \"))\n",
    "a=a+b\n",
    "b=a-b\n",
    "a=a-b\n",
    "print(\"a is: \",a,\"b is: \",b)\n"
   ]
  },
  {
   "cell_type": "markdown",
   "metadata": {},
   "source": [
    "###     Write a Python program to generate a random number"
   ]
  },
  {
   "cell_type": "code",
   "execution_count": 2,
   "metadata": {},
   "outputs": [
    {
     "name": "stdout",
     "output_type": "stream",
     "text": [
      "The random number is   7\n"
     ]
    }
   ],
   "source": [
    "import random\n",
    "\n",
    "a=random.randint(1,100)\n",
    "\n",
    "print(\"The random number is  \",a)"
   ]
  },
  {
   "cell_type": "markdown",
   "metadata": {},
   "source": [
    "### Write a Python program to print \"Hello Python\"?"
   ]
  },
  {
   "cell_type": "code",
   "execution_count": 3,
   "metadata": {},
   "outputs": [
    {
     "name": "stdout",
     "output_type": "stream",
     "text": [
      "Hello Python\n"
     ]
    }
   ],
   "source": [
    "print(\"Hello Python\")"
   ]
  },
  {
   "cell_type": "code",
   "execution_count": null,
   "metadata": {},
   "outputs": [],
   "source": []
  }
 ],
 "metadata": {
  "kernelspec": {
   "display_name": "Python 3",
   "language": "python",
   "name": "python3"
  },
  "language_info": {
   "codemirror_mode": {
    "name": "ipython",
    "version": 3
   },
   "file_extension": ".py",
   "mimetype": "text/x-python",
   "name": "python",
   "nbconvert_exporter": "python",
   "pygments_lexer": "ipython3",
   "version": "3.8.3"
  }
 },
 "nbformat": 4,
 "nbformat_minor": 4
}
